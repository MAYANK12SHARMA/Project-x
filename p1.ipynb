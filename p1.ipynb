{
 "cells": [
  {
   "cell_type": "code",
   "execution_count": 5,
   "metadata": {},
   "outputs": [
    {
     "name": "stdout",
     "output_type": "stream",
     "text": [
      "{'dbname': 'gpstollt-database', 'host': 'gpstollt-server.postgres.database.azure.com', 'port': '5432', 'sslmode': 'require', 'user': 'zzxdvzwjsw', 'password': 'DOJSO$DtU7tlCyhJ'}\n"
     ]
    }
   ],
   "source": [
    "database = \"dbname=gpstollt-database host=gpstollt-server.postgres.database.azure.com port=5432 sslmode=require user=zzxdvzwjsw password=DOJSO$DtU7tlCyhJ\"\n",
    "\n",
    "\n",
    "# split the database string into a list of strings into a list of strings with the format key=value pair as dectionary \n",
    "\n",
    "db = dict(item.split(\"=\") for item in database.split(\" \"))\n",
    "print(db)\n",
    "\n"
   ]
  },
  {
   "cell_type": "code",
   "execution_count": 1,
   "metadata": {},
   "outputs": [
    {
     "data": {
      "text/plain": [
       "'gpstoll-database'"
      ]
     },
     "execution_count": 1,
     "metadata": {},
     "output_type": "execute_result"
    }
   ],
   "source": [
    "database = \"dbname=gpstoll-database host=gpstoll-server.postgres.database.azure.com port=5432 sslmode=require user=eixkyfenrb password=yKMvH0dv$bReooHi\"\n",
    "\n",
    "\n",
    "\n",
    "db = dict(item.split(\"=\") for item in database.split(\" \"))\n",
    "\n",
    "db[\"dbname\"]"
   ]
  }
 ],
 "metadata": {
  "kernelspec": {
   "display_name": "Python 3",
   "language": "python",
   "name": "python3"
  },
  "language_info": {
   "codemirror_mode": {
    "name": "ipython",
    "version": 3
   },
   "file_extension": ".py",
   "mimetype": "text/x-python",
   "name": "python",
   "nbconvert_exporter": "python",
   "pygments_lexer": "ipython3",
   "version": "3.12.1"
  }
 },
 "nbformat": 4,
 "nbformat_minor": 2
}
